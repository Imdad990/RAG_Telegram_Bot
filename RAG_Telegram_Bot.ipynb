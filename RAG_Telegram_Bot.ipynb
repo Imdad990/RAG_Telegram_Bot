# STEP 1: Install Required Libraries
# ===============================
!pip install python-telegram-bot langchain chromadb pypdf openai sentence-transformers --quiet
!pip install langchain_community


# STEP 2: Import Libraries
# ===============================
import os
from telegram import Update
from telegram.ext import ApplicationBuilder, MessageHandler, ContextTypes, filters
from langchain.chat_models import ChatOpenAI
from langchain.document_loaders import PyPDFLoader
from langchain.vectorstores import Chroma
from langchain.embeddings import HuggingFaceEmbeddings
from langchain.chains import RetrievalQA
import nest_asyncio
nest_asyncio.apply()

# ===============================
# STEP 3: API Keys and Tokens
# ===============================
os.environ["OPENAI_API_KEY"] = "Write your own API"
telegram_token = "Write here telegram token"

# ===============================
# STEP 4: Upload PDF File
# ===============================
from google.colab import files
uploaded = files.upload()  # Upload your PDF file
pdf_path = list(uploaded.keys())[0]

# ===============================
# STEP 5: Load PDF and Build RAG Pipeline
# ===============================
loader = PyPDFLoader(pdf_path)
pages = loader.load()

# Use HuggingFace embeddings instead of OpenAI
embedding = HuggingFaceEmbeddings(model_name="all-MiniLM-L6-v2")
vectordb = Chroma.from_documents(pages, embedding)
retriever = vectordb.as_retriever()

# GPT-3.5-Turbo via OpenRouter
llm = ChatOpenAI(
    model="openai/gpt-3.5-turbo",
    openai_api_base="https://openrouter.ai/api/v1",
    openai_api_key=os.environ["OPENAI_API_KEY"],
    temperature=0
)

qa_chain = RetrievalQA.from_chain_type(llm=llm, retriever=retriever)

# ===============================
# STEP 6: Telegram Bot Handler
# ===============================
async def reply(update: Update, context: ContextTypes.DEFAULT_TYPE):
    query = update.message.text
    answer = qa_chain.run(query)
    await update.message.reply_text(answer)

app = ApplicationBuilder().token(telegram_token).build()
app.add_handler(MessageHandler(filters.TEXT & ~filters.COMMAND, reply))

# ===============================
# STEP 7: Run Telegram Bot
# ===============================
print("🤖 Bot is running. Send questions to your Telegram bot now.")
app.run_polling()
